{
 "cells": [
  {
   "cell_type": "code",
   "execution_count": 2,
   "metadata": {},
   "outputs": [],
   "source": [
    "from histdata import download_hist_data as dl\n",
    "from histdata.api import Platform as P, TimeFrame as TF\n",
    "import pandas as pd\n",
    "import os"
   ]
  },
  {
   "cell_type": "code",
   "execution_count": 3,
   "metadata": {},
   "outputs": [],
   "source": [
    "symbols = [\"EURUSD\", \"GBPUSD\", \"USDCHF\", \"AUDUSD\", \"USDJPY\", \"USDCAD\", \"NZDUSD\"]\n",
    "\n",
    "years = [x for x in range(2005, 2020, 1)]"
   ]
  },
  {
   "cell_type": "code",
   "execution_count": null,
   "metadata": {},
   "outputs": [],
   "source": [
    "for year in years:\n",
    "    for symbol in symbols:\n",
    "        # dl(year=str(year), month=None, pair=symbol, platform=P.EXCEL, time_frame=TF.ONE_MINUTE)"
   ]
  },
  {
   "cell_type": "code",
   "execution_count": null,
   "metadata": {},
   "outputs": [],
   "source": [
    "from shutil import unpack_archive\n",
    "for year in years:\n",
    "    for symbol in symbols:\n",
    "        file = '{}/DAT_XLSX_{}_M1_{}.zip'.format(os.getcwd(), symbol, year)\n",
    "        unpack_archive(file, 'destination_path/')"
   ]
  },
  {
   "cell_type": "code",
   "execution_count": null,
   "metadata": {},
   "outputs": [],
   "source": [
    "# Leemos cada uno de los pandas por año y los concatenamos\n",
    "allPandas = []\n",
    "for year in years:\n",
    "    for symbol in symbols:\n",
    "        file = '{}/{}/DAT_XLSX_{}_M1_{}.xlsx'.format(os.getcwd(),'destination_path', symbol, year)\n",
    "        ff = pd.read_excel(file, names=[\"time\", \"open\", 'high', 'low', 'close','dumy'])\n",
    "        allPandas.append({\"year\": year, \"symbol\": symbol, \"data\": ff})\n",
    "print(\"DONE\")"
   ]
  },
  {
   "cell_type": "code",
   "execution_count": null,
   "metadata": {},
   "outputs": [],
   "source": [
    "x=0\n",
    "for year in years:\n",
    "    for symbol in symbols:\n",
    "        allPandas[x][\"data\"].set_index(\"time\", inplace=True)\n",
    "        x+=1\n",
    "print(\"DONE\")"
   ]
  },
  {
   "cell_type": "code",
   "execution_count": null,
   "metadata": {},
   "outputs": [],
   "source": [
    "all_symbols = dict()\n",
    "x=0\n",
    "for year in years:\n",
    "    for symbol in symbols:\n",
    "        if symbol in all_symbols:\n",
    "            all_symbols[symbol] = pd.concat((all_symbols[symbol], allPandas[x][\"data\"]))\n",
    "        else:\n",
    "            all_symbols[symbol] = allPandas[x][\"data\"]\n",
    "        x+=1\n",
    "print(\"DONE\")"
   ]
  },
  {
   "cell_type": "code",
   "execution_count": null,
   "metadata": {},
   "outputs": [],
   "source": [
    "symbols = [\"EURUSD\", \"GBPUSD\", \"USDCHF\", \"AUDUSD\", \"USDJPY\", \"USDCAD\", \"NZDUSD\"]\n",
    "\n",
    "a1=all_symbols[\"EURUSD\"].index\n",
    "a2=all_symbols[\"GBPUSD\"].index\n",
    "a3=all_symbols[\"USDCHF\"].index\n",
    "a4=all_symbols[\"AUDUSD\"].index\n",
    "a5=all_symbols[\"USDJPY\"].index\n",
    "a6=all_symbols[\"USDCAD\"].index\n",
    "a7=all_symbols[\"NZDUSD\"].index\n",
    "\n",
    "newIdndex = a1.union(a2).union(a3).union(a4).union(a5).union(a6).union(a7)"
   ]
  },
  {
   "cell_type": "code",
   "execution_count": null,
   "metadata": {},
   "outputs": [],
   "source": [
    "for symbol in all_symbols:\n",
    "    all_symbols[symbol] = all_symbols[symbol].loc[~all_symbols[symbol].index.duplicated(keep='first')]\n",
    "    all_symbols[symbol] = all_symbols[symbol].reindex(newIdndex)\n",
    "    all_symbols[symbol].fillna(method='ffill',inplace=True)    \n",
    "print(\"DONE\")"
   ]
  },
  {
   "cell_type": "code",
   "execution_count": null,
   "metadata": {},
   "outputs": [],
   "source": [
    "min_index = all_symbols[\"NZDUSD\"].dropna().index"
   ]
  },
  {
   "cell_type": "code",
   "execution_count": null,
   "metadata": {},
   "outputs": [],
   "source": [
    "for symbol in all_symbols:\n",
    "    all_symbols[symbol] = all_symbols[symbol].loc[min_index]"
   ]
  },
  {
   "cell_type": "code",
   "execution_count": null,
   "metadata": {},
   "outputs": [],
   "source": [
    "for symbol in all_symbols:\n",
    "    all_symbols[symbol].reset_index().to_csv(\"{}_sync.csv\".format(symbol))"
   ]
  },
  {
   "cell_type": "code",
   "execution_count": null,
   "metadata": {},
   "outputs": [],
   "source": []
  },
  {
   "cell_type": "code",
   "execution_count": null,
   "metadata": {},
   "outputs": [],
   "source": []
  },
  {
   "cell_type": "code",
   "execution_count": null,
   "metadata": {},
   "outputs": [],
   "source": []
  }
 ],
 "metadata": {
  "kernelspec": {
   "display_name": "Python 3",
   "language": "python",
   "name": "python3"
  },
  "language_info": {
   "codemirror_mode": {
    "name": "ipython",
    "version": 3
   },
   "file_extension": ".py",
   "mimetype": "text/x-python",
   "name": "python",
   "nbconvert_exporter": "python",
   "pygments_lexer": "ipython3",
   "version": "3.7.5"
  }
 },
 "nbformat": 4,
 "nbformat_minor": 4
}
