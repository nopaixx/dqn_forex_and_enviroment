{
 "cells": [
  {
   "cell_type": "code",
   "execution_count": 11,
   "metadata": {},
   "outputs": [],
   "source": [
    "import pandas as pd\n",
    "import os\n",
    "import numpy as np"
   ]
  },
  {
   "cell_type": "code",
   "execution_count": 12,
   "metadata": {},
   "outputs": [],
   "source": [
    "symbols = [\"EURUSD\", \"GBPUSD\", \"USDCHF\", \"AUDUSD\", \"USDJPY\", \"USDCAD\", \"NZDUSD\"]"
   ]
  },
  {
   "cell_type": "code",
   "execution_count": null,
   "metadata": {},
   "outputs": [],
   "source": [
    "all_symbols = dict()\n",
    "\n",
    "for symbol in symbols:\n",
    "    all_symbols[symbol] = pd.read_csv(\"data_sync/{}_sync.csv\".format(symbol))\n",
    "    all_symbols[symbol].set_index(\"time\", inplace=True)\n",
    "    del all_symbols[symbol][\"Unnamed: 0\"]\n",
    "    del all_symbols[symbol][\"dumy\"]"
   ]
  },
  {
   "cell_type": "code",
   "execution_count": null,
   "metadata": {},
   "outputs": [],
   "source": [
    "symbols_specs = {\n",
    "    \"EURUSD\": {                \n",
    "        \"pip_value\": 10,\n",
    "        \"volumen\": 100000,\n",
    "        \"pip_decimal\": 10000\n",
    "    } ,\n",
    "    \"GBPUSD\": {                \n",
    "        \"pip_value\": 10,\n",
    "        \"volumen\": 100000,\n",
    "        \"pip_decimal\": 10000\n",
    "    }  ,\n",
    "    \"NZDUSD\": {                \n",
    "        \"pip_value\": 10,\n",
    "        \"volumen\": 100000,\n",
    "        \"pip_decimal\": 10000\n",
    "    }  ,\n",
    "    \"AUDUSD\": {                \n",
    "        \"pip_value\": 10,\n",
    "        \"volumen\": 100000,\n",
    "        \"pip_decimal\": 10000\n",
    "    }  ,\n",
    "    \"USDCHF\": {\n",
    "        \"volumen\": 100000,\n",
    "        \"pip_decimal\": 10000\n",
    "    },\n",
    "    \"USDCAD\": {\n",
    "        \"volumen\": 100000,\n",
    "        \"pip_decimal\": 10000\n",
    "    },\n",
    "    \"USDJPY\": {\n",
    "        \"volumen\": 100000,\n",
    "        \"pip_decimal\": 100\n",
    "    },\n",
    "\n",
    "}"
   ]
  },
  {
   "cell_type": "code",
   "execution_count": null,
   "metadata": {},
   "outputs": [],
   "source": []
  },
  {
   "cell_type": "code",
   "execution_count": null,
   "metadata": {},
   "outputs": [],
   "source": [
    "class Order:\n",
    "    \n",
    "    def __init__(self, symbol, volumen, order_type, simulator):\n",
    "        \n",
    "        # order_type 0 to sell 1 to buy        \n",
    "        self.symbol = symbol\n",
    "        self.volumen = volumen\n",
    "        self.type = order_type\n",
    "        self.is_active = True\n",
    "        self.profit = 0\n",
    "        self.max_posible_profit = 0\n",
    "        self.max_posible_loss = 0\n",
    "        self.opened_step = simulator.current_point\n",
    "        self.simulator = simulator\n",
    "        \n",
    "    def update_stats(self):\n",
    "        if self.is_active:            \n",
    "                        \n",
    "            open_price = self.simulator.main_data_source['{}_close'.format(self.symbol)].iloc[self.opened_step]\n",
    "            current_price = self.simulator.main_data_source['{}_close'.format(self.symbol)].iloc[simulator.current_point]\n",
    "            if self.type == 0:                            \n",
    "                pips = open_price-current_price\n",
    "            else:\n",
    "                pips = current_price-open_price\n",
    "                \n",
    "            if  \"pip_value\" in self.simulator.syms_specs[self.symbol]:\n",
    "                pip_value = self.simulator.syms_specs[self.symbol][\"pip_value\"] * self.volumen\n",
    "            else:\n",
    "                # Pip Value = (One Pip / Exchange Rate) * Lot Size                \n",
    "                pip_value = ((1 / self.simulator.syms_specs[self.symbol][\"pip_decimal\"]) / current_price)\n",
    "                pip_value = pip_value * self.simulator.syms_specs[self.symbol][\"volumen\"] * self.volumen                                    \n",
    "            self.profit = pip_value * pips * self.simulator.syms_specs[self.symbol][\"pip_decimal\"]            \n",
    "            pass\n",
    "        \n",
    "    def close(self):\n",
    "        \n",
    "        if self.is_active:\n",
    "            self.update_stats()\n",
    "            self.simulator.current_equitiy += self.profit\n",
    "            self.is_active = False\n",
    "    \n",
    "        \n",
    "class Terminal():\n",
    "    \n",
    "    \n",
    "    def __init__(self, all_symbols, syms_specs, initial_balance=1000, start_point=0, max_steps=1000):\n",
    "        \n",
    "        self.syms_specs = syms_specs\n",
    "        self.origin_data = all_symbols\n",
    "        # Flat symbols and set column \n",
    "        sym_list = []\n",
    "        for sym in self.origin_data:\n",
    "            sym_list.append(self.origin_data[sym])\n",
    "        \n",
    "        self.main_data_source = pd.concat(sym_list, axis=1)     \n",
    "        columns=[]\n",
    "        for col in symbols:\n",
    "            columns.append(\"{}_open\".format(col))\n",
    "            columns.append(\"{}_high\".format(col))\n",
    "            columns.append(\"{}_low\".format(col))\n",
    "            columns.append(\"{}_close\".format(col))\n",
    "\n",
    "        self.main_data_source.columns = columns\n",
    "        \n",
    "        self.account_currency = 'USD'\n",
    "        self.orders = []\n",
    "        self.initial_equitiy = initial_balance\n",
    "        self.current_equitiy = self.initial_equitiy\n",
    "        self.start_point = start_point\n",
    "        self.max_steps = max_steps\n",
    "        self.current_point = self.start_point\n",
    "        \n",
    "        \n",
    "    def closeAll(self):\n",
    "        for order in self.orders:            \n",
    "            order.close()\n",
    "    \n",
    "    def openOrder(self, symbol, volumen, order_type):\n",
    "        newOrder = Order(symbol, volumen, order_type, self)        \n",
    "        self.orders.append(newOrder)\n",
    "    \n",
    "    def closeOrder(self, symbol, index):\n",
    "        pass\n",
    "    \n",
    "    def reset(self, start_point=0):\n",
    "        self.current_equitiy = self.initial_equitiy\n",
    "        self.start_point = start_point\n",
    "        self.current_point = self.start_point\n",
    "        self.orders = []            \n",
    "    \n",
    "    def get_live_equitiy(self):        \n",
    "        ret = self.current_equitiy + sum([order.profit for order in self.orders if order.is_active])\n",
    "        return ret\n",
    "    \n",
    "    def nextStep(self):\n",
    "        if self.current_point + 1 >= self.start_point+self.max_steps:\n",
    "            self.closeAll()            \n",
    "            return False\n",
    "        \n",
    "        self.current_point += 1\n",
    "        for order in self.orders:\n",
    "            order.update_stats()\n",
    "            \n",
    "        return True\n",
    "        \n",
    "simulator = Terminal(all_symbols, symbols_specs, initial_balance=1000, start_point=1000, max_steps=10000)"
   ]
  },
  {
   "cell_type": "code",
   "execution_count": null,
   "metadata": {},
   "outputs": [],
   "source": [
    "simulator.openOrder('USDJPY',0.01, 1)"
   ]
  },
  {
   "cell_type": "code",
   "execution_count": null,
   "metadata": {},
   "outputs": [],
   "source": [
    "simulator.orders[0].profit"
   ]
  },
  {
   "cell_type": "code",
   "execution_count": 427,
   "metadata": {},
   "outputs": [],
   "source": [
    "for x in range(25):\n",
    "    simulator.nextStep()"
   ]
  },
  {
   "cell_type": "code",
   "execution_count": 426,
   "metadata": {},
   "outputs": [],
   "source": [
    "simulator.openOrder('USDJPY',0.01, 1)"
   ]
  },
  {
   "cell_type": "code",
   "execution_count": 419,
   "metadata": {
    "scrolled": true
   },
   "outputs": [
    {
     "name": "stdout",
     "output_type": "stream",
     "text": [
      "done\n"
     ]
    }
   ],
   "source": [
    "while simulator.nextStep():\n",
    "    pass\n",
    "\n",
    "    \n",
    "print(\"done\")"
   ]
  },
  {
   "cell_type": "code",
   "execution_count": 428,
   "metadata": {},
   "outputs": [
    {
     "data": {
      "text/plain": [
       "997.5346968590212"
      ]
     },
     "execution_count": 428,
     "metadata": {},
     "output_type": "execute_result"
    }
   ],
   "source": [
    "simulator.get_live_equitiy()"
   ]
  },
  {
   "cell_type": "code",
   "execution_count": null,
   "metadata": {},
   "outputs": [],
   "source": []
  },
  {
   "cell_type": "code",
   "execution_count": 430,
   "metadata": {},
   "outputs": [
    {
     "data": {
      "text/plain": [
       "-0.7304601899196339"
      ]
     },
     "execution_count": 430,
     "metadata": {},
     "output_type": "execute_result"
    }
   ],
   "source": [
    "simulator.orders[1].profit"
   ]
  },
  {
   "cell_type": "code",
   "execution_count": 400,
   "metadata": {},
   "outputs": [
    {
     "data": {
      "text/plain": [
       "-0.36390101892278065"
      ]
     },
     "execution_count": 400,
     "metadata": {},
     "output_type": "execute_result"
    }
   ],
   "source": [
    "simulator.orders[0].profit"
   ]
  },
  {
   "cell_type": "code",
   "execution_count": 355,
   "metadata": {},
   "outputs": [
    {
     "data": {
      "text/plain": [
       "array([1.2459, 1.2459, 1.2459, 1.2458, 1.2456, 1.2455, 1.2454, 1.2453,\n",
       "       1.2455, 1.2455, 1.2455, 1.2455, 1.2455, 1.2455, 1.2456, 1.2455,\n",
       "       1.2456, 1.2456, 1.2456, 1.2457, 1.2456, 1.2457, 1.2457, 1.2457,\n",
       "       1.2454, 1.2454, 1.2454, 1.2454, 1.2454, 1.2454, 1.2454, 1.2454,\n",
       "       1.2454, 1.2455, 1.2455, 1.2456, 1.2454, 1.2456, 1.2455, 1.2455,\n",
       "       1.2457, 1.2456, 1.2457, 1.2456, 1.2456, 1.2456, 1.2454, 1.2456,\n",
       "       1.2456, 1.2456, 1.2456, 1.2457, 1.2457, 1.2456, 1.2457, 1.2457,\n",
       "       1.2457, 1.2458, 1.2456, 1.2458, 1.2458, 1.2458, 1.2457, 1.2458,\n",
       "       1.2457, 1.2456, 1.2456, 1.2456, 1.2456, 1.2456, 1.2456, 1.2457,\n",
       "       1.2456, 1.2457, 1.2457, 1.2457, 1.2455, 1.2454, 1.2457, 1.2457,\n",
       "       1.2458, 1.2457, 1.2456, 1.2454, 1.2453, 1.2452, 1.2449, 1.2446,\n",
       "       1.2444, 1.2443, 1.2447, 1.2445, 1.2444, 1.2445, 1.2445, 1.2445,\n",
       "       1.2444, 1.2443, 1.2444, 1.2444])"
      ]
     },
     "execution_count": 355,
     "metadata": {},
     "output_type": "execute_result"
    }
   ],
   "source": [
    "simulator.main_data_source['EURUSD_close'].iloc[100:200].values"
   ]
  },
  {
   "cell_type": "code",
   "execution_count": 437,
   "metadata": {},
   "outputs": [
    {
     "data": {
      "text/plain": [
       "78125"
      ]
     },
     "execution_count": 437,
     "metadata": {},
     "output_type": "execute_result"
    }
   ],
   "source": [
    "5*5*5*5*5*5*5"
   ]
  },
  {
   "cell_type": "code",
   "execution_count": null,
   "metadata": {},
   "outputs": [],
   "source": []
  },
  {
   "cell_type": "code",
   "execution_count": null,
   "metadata": {},
   "outputs": [],
   "source": [
    "https://keras.io/examples/rl/ddpg_pendulum/#:~:text=Deep%20Deterministic%20Policy%20Gradient%20(DDPG)%20is%20a%20model%2Dfree,algorithm%20for%20learning%20continous%20actions.&text=It%20uses%20Experience%20Replay%20and,operate%20over%20continuous%20action%20spaces."
   ]
  }
 ],
 "metadata": {
  "kernelspec": {
   "display_name": "Python 3",
   "language": "python",
   "name": "python3"
  },
  "language_info": {
   "codemirror_mode": {
    "name": "ipython",
    "version": 3
   },
   "file_extension": ".py",
   "mimetype": "text/x-python",
   "name": "python",
   "nbconvert_exporter": "python",
   "pygments_lexer": "ipython3",
   "version": "3.7.5"
  }
 },
 "nbformat": 4,
 "nbformat_minor": 4
}
